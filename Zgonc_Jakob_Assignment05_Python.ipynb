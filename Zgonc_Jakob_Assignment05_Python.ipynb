{
 "cells": [
  {
   "cell_type": "markdown",
   "metadata": {},
   "source": [
    "# <font size=\"6\"><b>Assignment V: GitHub and the ticketmaster.com API (Python)</b></font>\n",
    "<font size=\"5\">Data Science Project Management (DS400) | Winter Term 2022/23</font>\n",
    "\n",
    "<br>\n",
    "\n",
    "<div class=\"author_year\">\n",
    "Submitted by Jakob Zgonc (6293178)<br>\n",
    "Submitted on 23.01.2023\n",
    "</div>\n",
    "\n",
    "<br>\n",
    "\n",
    "---"
   ]
  },
  {
   "cell_type": "markdown",
   "metadata": {},
   "source": [
    "<h2>Table of Contents<span class=\"tocSkip\"></span></h2>\n",
    "\n",
    "<div class=\"toc\">\n",
    "    <ul class=\"toc-item\", style=\"list-style-type:none;\">\n",
    "        <li><span><a href=\"#1-Interacting-with-the-API---the-basics\">1 Interacting with the API - the basics</a></span></li>\n",
    "        <li><span><a href=\"#2-Interacting-with-the-API---advanced\">2 Interacting with the API - advanced</a></span></li>\n",
    "        <li><span><a href=\"#3-Visualizing-the-extracted-data\">3 Visualizing the extracted data</a></span></li>\n",
    "        <li><span><a href=\"#4-Event-locations-in-other-countries\">4 Event locations in other countries</a></span></li>\n",
    "    </ul>\n",
    "</div>\n",
    "\n",
    "<br>"
   ]
  },
  {
   "cell_type": "markdown",
   "metadata": {},
   "source": [
    "---\n",
    "\n",
    "**Code of conduct**\n",
    "\n",
    "*I hereby acknowledge that the submitted assignment is my own work. During the preparation of this assignment I have worked together with Max Mohr and Felix Koehn.*\n",
    "\n",
    "<br>\n",
    "\n",
    "---"
   ]
  },
  {
   "cell_type": "code",
   "execution_count": 1,
   "metadata": {},
   "outputs": [
    {
     "data": {
      "text/html": [
       "<style>\n",
       "\n",
       "div.author_year {\n",
       "    color: #708090;\n",
       "    font-size: 17px;\n",
       "    font-style: italic;\n",
       "}\n",
       "\n",
       "div.task {\n",
       "    background-color:#DAE3F3;\n",
       "    color: #337AB7; /*  #002060;*/\n",
       "    border-radius: 10px; \n",
       "    padding: 20px;\n",
       "    margin-top: 20px;\n",
       "    margin-bottom: 20px;\n",
       "    margin-left: -5px;\n",
       "    margin-right: -20px;\n",
       "    font-size: 15px;\n",
       "    border-left: 10px solid #337AB7;\n",
       "}\n",
       "\n",
       "body {\n",
       "    max-width:960px;\n",
       "    margin:0 auto;\n",
       "}\n",
       "\n",
       "</style>\n"
      ],
      "text/plain": [
       "<IPython.core.display.HTML object>"
      ]
     },
     "metadata": {},
     "output_type": "display_data"
    }
   ],
   "source": [
    "%%html\n",
    "<style>\n",
    "\n",
    "div.author_year {\n",
    "    color: #708090;\n",
    "    font-size: 17px;\n",
    "    font-style: italic;\n",
    "}\n",
    "\n",
    "div.task {\n",
    "    background-color:#DAE3F3;\n",
    "    color: #337AB7; /*  #002060;*/\n",
    "    border-radius: 10px; \n",
    "    padding: 20px;\n",
    "    margin-top: 20px;\n",
    "    margin-bottom: 20px;\n",
    "    margin-left: -5px;\n",
    "    margin-right: -20px;\n",
    "    font-size: 15px;\n",
    "    border-left: 10px solid #337AB7;\n",
    "}\n",
    "\n",
    "body {\n",
    "    max-width:960px;\n",
    "    margin:0 auto;\n",
    "}\n",
    "\n",
    "</style>"
   ]
  },
  {
   "cell_type": "markdown",
   "metadata": {},
   "source": [
    "This document is also available in [this GitHub repository](https://github.com/jzgonc/dspm_2022_assignment_5)."
   ]
  },
  {
   "cell_type": "markdown",
   "metadata": {},
   "source": [
    "---\n",
    "\n",
    "## 1 Interacting with the API - the basics\n",
    "\n",
    "<div class=\"task\">\n",
    "    <ol start=7>\n",
    "        <li>Perform a first <code>GET</code> request, that searches for event venues in Germany (<code>countryCode = \"DE\"</code>). Extract the content from the response object and inspect the resulting list. Describe what you can see.\n",
    "        </li>\n",
    "        </ol>\n",
    "</div>"
   ]
  },
  {
   "cell_type": "code",
   "execution_count": 2,
   "metadata": {},
   "outputs": [],
   "source": [
    "# import packages\n"
   ]
  },
  {
   "cell_type": "code",
   "execution_count": null,
   "metadata": {},
   "outputs": [],
   "source": []
  },
  {
   "cell_type": "markdown",
   "metadata": {},
   "source": [
    "<div class=\"task\">\n",
    "    <ol start=8>\n",
    "        <li>Extract the <code>name</code>, the <code>city</code>, the <code>postalCode</code> and <code>address</code>, as well as the <code>url</code> and the <code>longitude</code> and <code>latitude</code> of the <code>venues</code> to a data frame. This data frame should have the following structure:\n",
    "        <br><br>\n",
    "<code>## Rows: 20\n",
    "## Columns: 7\n",
    "## $ name       chr \"Gruenspan\", \"Huxleys Neue Welt\", \"Kleine Olympiahalle\", \"Z~\n",
    "## $ city       chr \"Hamburg\", \"Berlin\", \"Munich\", \"Emmelshausen\", \"Mülheim\", \"~\n",
    "## $ postalCode dbl 22767, 10967, 80809, 56281, 45479, 76646, 68766, 44263, 542~\n",
    "## $ address    chr \"Grosse Freiheit 58\", \"Hasenheide 107 – 113\", \"Spiridon-Lou~\n",
    "## $ url        chr \"http://www.ticketmaster.de/venue/287155\", \"http://www.tick~\n",
    "## $ longitude  dbl 9.958075, 13.421380, 11.550920, 7.556560, 6.874710, 8.59908~\n",
    "## $ latitude   dbl 53.55188, 52.48639, 48.17543, 50.15544, 51.42778, 49.12692,~</code></li>\n",
    "</ol>\n",
    "</div>"
   ]
  },
  {
   "cell_type": "code",
   "execution_count": null,
   "metadata": {},
   "outputs": [],
   "source": []
  },
  {
   "cell_type": "markdown",
   "metadata": {},
   "source": [
    "## 2 Interacting with the API - advanced\n",
    "\n",
    "<div class=\"task\">\n",
    "    <ol start=9>\n",
    "        <li>Have a closer look at the list element named <code>page</code>. Did your <code>GET</code> request from exercise (7) return <i>all</i> event locations in Germany? Obviously not - there are of course much more venues in Germany than those contained in this list. Your <code>GET</code> request only yielded the first results page containing the first 20 out of several thousands of venues. Check the API documentation under the section [Venue Search](https://developer.ticketmaster.com/products-and-docs/apis/discovery-api/v2/#search-venues-v2). How can you request the venues from the remaining results pages? Iterate over the results pages and perform <code>GET</code> requests for all venues in Germany. After each iteration, extract the seven variables <code>name</code>, <code>city</code>, <code>postalCode</code>, <code>address</code>, <code>url</code>, <code>longitude</code>, and <code>latitude</code>. Join the information in one large data frame. Print the first 10 rows and the shape of the resulting data frame. The resulting data frame should look something like this (note that the exact number of search results may have changed since this document has been last modified):<br><br>\n",
    "<code>## Rows: 12,671\n",
    "## Columns: 7\n",
    "## $ name       chr \"Gruenspan\", \"Huxleys Neue Welt\", \"Kleine Olympiahalle\", \"Z~\n",
    "## $ city       chr \"Hamburg\", \"Berlin\", \"Munich\", \"Emmelshausen\", \"Mülheim\", \"~\n",
    "## $ postalCode dbl 22767, 10967, 80809, 56281, 45479, 76646, 68766, 44263, 542~\n",
    "## $ address    chr \"Grosse Freiheit 58\", \"Hasenheide 107 – 113\", \"Spiridon-Lou~\n",
    "## $ url        chr \"http://www.ticketmaster.de/venue/287155\", \"http://www.tick~\n",
    "## $ longitude  dbl 9.958075, 13.421380, 11.550920, 7.556560, 6.874710, 8.59908~\n",
    "## $ latitude   dbl 53.55188, 52.48639, 48.17543, 50.15544, 51.42778, 49.12692,~</code></li>\n",
    "</ol>\n",
    "</div>"
   ]
  },
  {
   "cell_type": "code",
   "execution_count": 5,
   "metadata": {},
   "outputs": [],
   "source": []
  },
  {
   "cell_type": "markdown",
   "metadata": {},
   "source": [
    "## 3 Visualizing the extracted data\n",
    "\n",
    "<div class=\"task\">\n",
    "    <ol start=10>\n",
    "        <li>Below, you can find code that produces a map of Germany. Add points to the map indicating the locations of the event venues across Germany.</li>\n",
    "    </ol>\n",
    "</div>"
   ]
  },
  {
   "cell_type": "code",
   "execution_count": null,
   "metadata": {},
   "outputs": [],
   "source": []
  },
  {
   "cell_type": "markdown",
   "metadata": {},
   "source": [
    "<div class=\"task\">\n",
    "    <ol start=11>\n",
    "        <li>You will find that some coordinates lie way beyond the German borders and can be assumed to be faulty. Set coordinate values to <code>NA</code> where the value of <code>longitude</code> is outside the range (<code>5.866, 15.042</code>) or where the value of <code>latitude</code> is outside the range (<code>47.270, 55.059</code>) (these coordinate ranges have been derived from the extreme points of Germany as listed on Wikipedia (see <a href=\"https://en.wikipedia.org/wiki/Geography_of_Germany#Extreme_points\">here</a>). For extreme points of other countries, see <a href=\"https://en.wikipedia.org/wiki/Lists_of_extreme_points#Sovereign_states\">here</a>).</li>\n",
    "        </ol>\n",
    "</div>"
   ]
  },
  {
   "cell_type": "code",
   "execution_count": null,
   "metadata": {},
   "outputs": [],
   "source": []
  },
  {
   "cell_type": "markdown",
   "metadata": {},
   "source": [
    "## 4 Event locations in other countries\n",
    "\n",
    "<div class=\"task\">\n",
    "    <ol start=12>\n",
    "        <li>Repeat exercises (9)–(11) for another European country of your choice. (Hint: Clean code pays off! If you have coded the exercises efficiently, only very few adaptions need to be made.)</li>\n",
    "    </ol>\n",
    "</div>"
   ]
  },
  {
   "cell_type": "code",
   "execution_count": 9,
   "metadata": {},
   "outputs": [],
   "source": []
  },
  {
   "cell_type": "code",
   "execution_count": null,
   "metadata": {},
   "outputs": [],
   "source": []
  },
  {
   "cell_type": "markdown",
   "metadata": {},
   "source": [
    "\n",
    "<br>\n",
    "\n",
    "***"
   ]
  }
 ],
 "metadata": {
  "kernelspec": {
   "display_name": "Python 3 (ipykernel)",
   "language": "python",
   "name": "python3"
  },
  "language_info": {
   "codemirror_mode": {
    "name": "ipython",
    "version": 3
   },
   "file_extension": ".py",
   "mimetype": "text/x-python",
   "name": "python",
   "nbconvert_exporter": "python",
   "pygments_lexer": "ipython3",
   "version": "3.9.15"
  },
  "toc-autonumbering": false,
  "toc-showmarkdowntxt": false,
  "vscode": {
   "interpreter": {
    "hash": "b0fa6594d8f4cbf19f97940f81e996739fb7646882a419484c72d19e05852a7e"
   }
  }
 },
 "nbformat": 4,
 "nbformat_minor": 4
}
